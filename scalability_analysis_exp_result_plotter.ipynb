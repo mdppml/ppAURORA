{
 "cells": [
  {
   "cell_type": "code",
   "execution_count": 114,
   "id": "1454a748",
   "metadata": {},
   "outputs": [],
   "source": [
    "import numpy as np\n",
    "import matplotlib.pyplot as plt"
   ]
  },
  {
   "cell_type": "code",
   "execution_count": 115,
   "id": "ff21a31a",
   "metadata": {},
   "outputs": [],
   "source": [
    "fn = \"exp_runners/results/\"\n",
    "methods = [\"aupr\", \"auroc_no_tie\", \"auroc_with_tie\"]\n",
    "num_repetitions = 1"
   ]
  },
  {
   "cell_type": "markdown",
   "id": "d2d38e61",
   "metadata": {},
   "source": [
    "# AUPR"
   ]
  },
  {
   "cell_type": "markdown",
   "id": "539c7441",
   "metadata": {},
   "source": [
    "## Delta in AUPR"
   ]
  },
  {
   "cell_type": "code",
   "execution_count": 172,
   "id": "2fc4f3e5",
   "metadata": {},
   "outputs": [
    {
     "name": "stdout",
     "output_type": "stream",
     "text": [
      "exp_runners/results/aupr/aupr_delta_helper\n",
      "exp_runners/results/aupr/aupr_delta_p1\n",
      "exp_runners/results/aupr/aupr_delta_p2\n"
     ]
    }
   ],
   "source": [
    "exp_type = \"delta\"\n",
    "tmp_fn_h = fn + methods[0] + \"/\" + methods[0] + \"_\" + exp_type + \"_helper\"\n",
    "tmp_fn_p1 = fn + methods[0] + \"/\" + methods[0] + \"_\" + exp_type + \"_p1\"\n",
    "tmp_fn_p2 = fn + methods[0] + \"/\" + methods[0] + \"_\" + exp_type + \"_p2\"\n",
    "print(tmp_fn_h)\n",
    "print(tmp_fn_p1)\n",
    "print(tmp_fn_p2)\n",
    "deltas = np.array([3, 5, 11, 25, 51, 101])\n",
    "n_deltas = len(deltas)\n",
    "aupr_delta_exe_time = np.empty((3, n_deltas, num_repetitions), dtype = float)\n",
    "aupr_delta_send_byte = np.empty((3, n_deltas, num_repetitions), dtype = float)\n",
    "aupr_delta_rec_byte = np.empty((3, n_deltas, num_repetitions), dtype = float)\n",
    "\n",
    "# helper\n",
    "ind = 0\n",
    "p_cnt = 0\n",
    "with open(tmp_fn_h) as f:\n",
    "    while True:\n",
    "        line = f.readline()\n",
    "        if not line:\n",
    "            break\n",
    "        words = line.strip().split(\"\\t\");\n",
    "        if words[0] == \"Paper\":\n",
    "            aupr_delta_send_byte[0][p_cnt][ind] = float(words[1])\n",
    "            aupr_delta_rec_byte[0][p_cnt][ind] = float(words[2])\n",
    "            aupr_delta_exe_time[0][p_cnt][ind] = float(words[3])\n",
    "            p_cnt += 1\n",
    "            if p_cnt == n_deltas:\n",
    "                ind += 1\n",
    "                p_cnt = 0\n",
    "\n",
    "# p1\n",
    "ind = 0\n",
    "p_cnt = 0\n",
    "with open(tmp_fn_p1) as f:\n",
    "    while True:\n",
    "        line = f.readline()\n",
    "        if not line:\n",
    "            break\n",
    "        words = line.strip().split(\"\\t\");\n",
    "        if words[0] == \"Paper\":\n",
    "            aupr_delta_send_byte[1][p_cnt][ind] = float(words[1])\n",
    "            aupr_delta_rec_byte[1][p_cnt][ind] = float(words[2])\n",
    "            aupr_delta_exe_time[1][p_cnt][ind] = float(words[3])\n",
    "            p_cnt += 1\n",
    "            if p_cnt == n_deltas:\n",
    "                ind += 1\n",
    "                p_cnt = 0\n",
    "\n",
    "# p2\n",
    "ind = 0\n",
    "p_cnt = 0\n",
    "with open(tmp_fn_p2) as f:\n",
    "    while True:\n",
    "        line = f.readline()\n",
    "        if not line:\n",
    "            break\n",
    "        words = line.strip().split(\"\\t\");\n",
    "        if words[0] == \"Paper\":\n",
    "            aupr_delta_send_byte[2][p_cnt][ind] = float(words[1])\n",
    "            aupr_delta_rec_byte[2][p_cnt][ind] = float(words[2])\n",
    "            aupr_delta_exe_time[2][p_cnt][ind] = float(words[3])\n",
    "            p_cnt += 1\n",
    "            if p_cnt == n_deltas:\n",
    "                ind += 1\n",
    "                p_cnt = 0\n",
    "            \n",
    "# print(\"Send Byte\", aupr_delta_send_byte)\n",
    "# print(\"\\nReceive Byte\", aupr_delta_rec_byte)\n",
    "# print(\"\\nExecution Time\", aupr_delta_exe_time)"
   ]
  },
  {
   "cell_type": "markdown",
   "id": "b72e9c46",
   "metadata": {},
   "source": [
    "## Number of Parties in AUPR"
   ]
  },
  {
   "cell_type": "code",
   "execution_count": 117,
   "id": "08e348f1",
   "metadata": {},
   "outputs": [
    {
     "name": "stdout",
     "output_type": "stream",
     "text": [
      "exp_runners/results/aupr/aupr_num_parties_helper\n",
      "exp_runners/results/aupr/aupr_num_parties_p1\n",
      "exp_runners/results/aupr/aupr_num_parties_p2\n"
     ]
    }
   ],
   "source": [
    "exp_type = \"num_parties\"\n",
    "tmp_fn_h = fn + methods[0] + \"/\" + methods[0] + \"_\" + exp_type + \"_helper\"\n",
    "tmp_fn_p1 = fn + methods[0] + \"/\" + methods[0] + \"_\" + exp_type + \"_p1\"\n",
    "tmp_fn_p2 = fn + methods[0] + \"/\" + methods[0] + \"_\" + exp_type + \"_p2\"\n",
    "print(tmp_fn_h)\n",
    "print(tmp_fn_p1)\n",
    "print(tmp_fn_p2)\n",
    "parties = np.array([2, 4, 8])\n",
    "n_parties = len(parties)\n",
    "aupr_np_exe_time = np.empty((3, n_parties, num_repetitions), dtype = float)\n",
    "aupr_np_send_byte = np.empty((3, n_parties, num_repetitions), dtype = float)\n",
    "aupr_np_rec_byte = np.empty((3, n_parties, num_repetitions), dtype = float)\n",
    "\n",
    "# helper\n",
    "ind = 0\n",
    "p_cnt = 0\n",
    "with open(tmp_fn_h) as f:\n",
    "    while True:\n",
    "        line = f.readline()\n",
    "        if not line:\n",
    "            break\n",
    "        words = line.strip().split(\"\\t\");\n",
    "        if words[0] == \"Paper\":\n",
    "            aupr_np_send_byte[0][p_cnt][ind] = float(words[1])\n",
    "            aupr_np_rec_byte[0][p_cnt][ind] = float(words[2])\n",
    "            aupr_np_exe_time[0][p_cnt][ind] = float(words[3])\n",
    "            p_cnt += 1\n",
    "            if p_cnt == n_parties:\n",
    "                ind += 1\n",
    "                p_cnt = 0\n",
    "\n",
    "# p1\n",
    "ind = 0\n",
    "p_cnt = 0\n",
    "with open(tmp_fn_p1) as f:\n",
    "    while True:\n",
    "        line = f.readline()\n",
    "        if not line:\n",
    "            break\n",
    "        words = line.strip().split(\"\\t\");\n",
    "        if words[0] == \"Paper\":\n",
    "            aupr_np_send_byte[1][p_cnt][ind] = float(words[1])\n",
    "            aupr_np_rec_byte[1][p_cnt][ind] = float(words[2])\n",
    "            aupr_np_exe_time[1][p_cnt][ind] = float(words[3])\n",
    "            p_cnt += 1\n",
    "            if p_cnt == n_parties:\n",
    "                ind += 1\n",
    "                p_cnt = 0\n",
    "\n",
    "# p2\n",
    "ind = 0\n",
    "p_cnt = 0\n",
    "with open(tmp_fn_p2) as f:\n",
    "    while True:\n",
    "        line = f.readline()\n",
    "        if not line:\n",
    "            break\n",
    "        words = line.strip().split(\"\\t\");\n",
    "        if words[0] == \"Paper\":\n",
    "            aupr_np_send_byte[2][p_cnt][ind] = float(words[1])\n",
    "            aupr_np_rec_byte[2][p_cnt][ind] = float(words[2])\n",
    "            aupr_np_exe_time[2][p_cnt][ind] = float(words[3])\n",
    "            p_cnt += 1\n",
    "            if p_cnt == n_parties:\n",
    "                ind += 1\n",
    "                p_cnt = 0\n",
    "            \n",
    "# print(\"Send Byte\", aupr_np_send_byte)\n",
    "# print(\"\\nReceive Byte\", aupr_np_rec_byte)\n",
    "# print(\"\\nExecution Time\", aupr_np_exe_time)"
   ]
  },
  {
   "cell_type": "markdown",
   "id": "19b0bd38",
   "metadata": {},
   "source": [
    "## Number of Samples in AUPR"
   ]
  },
  {
   "cell_type": "code",
   "execution_count": 118,
   "id": "32766c95",
   "metadata": {},
   "outputs": [
    {
     "name": "stdout",
     "output_type": "stream",
     "text": [
      "exp_runners/results/aupr/aupr_num_samples_helper\n",
      "exp_runners/results/aupr/aupr_num_samples_p1\n",
      "exp_runners/results/aupr/aupr_num_samples_p2\n"
     ]
    }
   ],
   "source": [
    "exp_type = \"num_samples\"\n",
    "tmp_fn_h = fn + methods[0] + \"/\" + methods[0] + \"_\" + exp_type + \"_helper\"\n",
    "tmp_fn_p1 = fn + methods[0] + \"/\" + methods[0] + \"_\" + exp_type + \"_p1\"\n",
    "tmp_fn_p2 = fn + methods[0] + \"/\" + methods[0] + \"_\" + exp_type + \"_p2\"\n",
    "print(tmp_fn_h)\n",
    "print(tmp_fn_p1)\n",
    "print(tmp_fn_p2)\n",
    "samples = np.array([64, 128, 256, 512, 1024])\n",
    "n_samples = 5 # [64, 128, 256, 512, 1024]\n",
    "aupr_ns_exe_time = np.empty((3, n_samples, num_repetitions), dtype = float)\n",
    "aupr_ns_send_byte = np.empty((3, n_samples, num_repetitions), dtype = float)\n",
    "aupr_ns_rec_byte = np.empty((3, n_samples, num_repetitions), dtype = float)\n",
    "\n",
    "# helper\n",
    "ind = 0\n",
    "p_cnt = 0\n",
    "with open(tmp_fn_h) as f:\n",
    "    while True:\n",
    "        line = f.readline()\n",
    "        if not line:\n",
    "            break\n",
    "        words = line.strip().split(\"\\t\");\n",
    "        if words[0] == \"Paper\":\n",
    "            aupr_ns_send_byte[0][p_cnt][ind] = float(words[1])\n",
    "            aupr_ns_rec_byte[0][p_cnt][ind] = float(words[2])\n",
    "            aupr_ns_exe_time[0][p_cnt][ind] = float(words[3])\n",
    "            p_cnt += 1\n",
    "            if p_cnt == n_samples:\n",
    "                ind += 1\n",
    "                p_cnt = 0\n",
    "\n",
    "# p1\n",
    "ind = 0\n",
    "p_cnt = 0\n",
    "with open(tmp_fn_p1) as f:\n",
    "    while True:\n",
    "        line = f.readline()\n",
    "        if not line:\n",
    "            break\n",
    "        words = line.strip().split(\"\\t\");\n",
    "        if words[0] == \"Paper\":\n",
    "            aupr_ns_send_byte[1][p_cnt][ind] = float(words[1])\n",
    "            aupr_ns_rec_byte[1][p_cnt][ind] = float(words[2])\n",
    "            aupr_ns_exe_time[1][p_cnt][ind] = float(words[3])\n",
    "            p_cnt += 1\n",
    "            if p_cnt == n_samples:\n",
    "                ind += 1\n",
    "                p_cnt = 0\n",
    "\n",
    "# p2\n",
    "ind = 0\n",
    "p_cnt = 0\n",
    "with open(tmp_fn_p2) as f:\n",
    "    while True:\n",
    "        line = f.readline()\n",
    "        if not line:\n",
    "            break\n",
    "        words = line.strip().split(\"\\t\");\n",
    "        if words[0] == \"Paper\":\n",
    "            aupr_ns_send_byte[2][p_cnt][ind] = float(words[1])\n",
    "            aupr_ns_rec_byte[2][p_cnt][ind] = float(words[2])\n",
    "            aupr_ns_exe_time[2][p_cnt][ind] = float(words[3])\n",
    "            p_cnt += 1\n",
    "            if p_cnt == n_samples:\n",
    "                ind += 1\n",
    "                p_cnt = 0\n",
    "            \n",
    "# print(\"Send Byte\", aupr_ns_send_byte)\n",
    "# print(\"\\nReceive Byte\", aupr_ns_rec_byte)\n",
    "# print(\"\\nExecution Time\", aupr_ns_exe_time)"
   ]
  },
  {
   "cell_type": "code",
   "execution_count": 176,
   "id": "d103a31e",
   "metadata": {},
   "outputs": [
    {
     "name": "stdout",
     "output_type": "stream",
     "text": [
      "exp_runners/results/aupr/aupr_unbalanced_helper\n",
      "exp_runners/results/aupr/aupr_unbalanced_p1\n",
      "exp_runners/results/aupr/aupr_unbalanced_p2\n"
     ]
    }
   ],
   "source": [
    "exp_type = \"unbalanced\"\n",
    "tmp_fn_h = fn + methods[0] + \"/\" + methods[0] + \"_\" + exp_type + \"_helper\"\n",
    "tmp_fn_p1 = fn + methods[0] + \"/\" + methods[0] + \"_\" + exp_type + \"_p1\"\n",
    "tmp_fn_p2 = fn + methods[0] + \"/\" + methods[0] + \"_\" + exp_type + \"_p2\"\n",
    "print(tmp_fn_h)\n",
    "print(tmp_fn_p1)\n",
    "print(tmp_fn_p2)\n",
    "unb_samples = np.array([1])\n",
    "n_unb = len(samples) # [64, 128, 256, 512, 1024]\n",
    "aupr_unb_exe_time = np.empty((3, n_samples, num_repetitions), dtype = float)\n",
    "aupr_unb_send_byte = np.empty((3, n_samples, num_repetitions), dtype = float)\n",
    "aupr_unb_rec_byte = np.empty((3, n_samples, num_repetitions), dtype = float)\n",
    "\n",
    "# helper\n",
    "ind = 0\n",
    "p_cnt = 0\n",
    "with open(tmp_fn_h) as f:\n",
    "    while True:\n",
    "        line = f.readline()\n",
    "        if not line:\n",
    "            break\n",
    "        words = line.strip().split(\"\\t\");\n",
    "        if words[0] == \"Paper\":\n",
    "            aupr_unb_send_byte[0][p_cnt][ind] = float(words[1])\n",
    "            aupr_unb_rec_byte[0][p_cnt][ind] = float(words[2])\n",
    "            aupr_unb_exe_time[0][p_cnt][ind] = float(words[3])\n",
    "            p_cnt += 1\n",
    "            if p_cnt == n_unb:\n",
    "                ind += 1\n",
    "                p_cnt = 0\n",
    "\n",
    "# p1\n",
    "ind = 0\n",
    "p_cnt = 0\n",
    "with open(tmp_fn_p1) as f:\n",
    "    while True:\n",
    "        line = f.readline()\n",
    "        if not line:\n",
    "            break\n",
    "        words = line.strip().split(\"\\t\");\n",
    "        if words[0] == \"Paper\":\n",
    "            aupr_unb_send_byte[1][p_cnt][ind] = float(words[1])\n",
    "            aupr_unb_rec_byte[1][p_cnt][ind] = float(words[2])\n",
    "            aupr_unb_exe_time[1][p_cnt][ind] = float(words[3])\n",
    "            p_cnt += 1\n",
    "            if p_cnt == n_unb:\n",
    "                ind += 1\n",
    "                p_cnt = 0\n",
    "\n",
    "# p2\n",
    "ind = 0\n",
    "p_cnt = 0\n",
    "with open(tmp_fn_p2) as f:\n",
    "    while True:\n",
    "        line = f.readline()\n",
    "        if not line:\n",
    "            break\n",
    "        words = line.strip().split(\"\\t\");\n",
    "        if words[0] == \"Paper\":\n",
    "            aupr_unb_send_byte[2][p_cnt][ind] = float(words[1])\n",
    "            aupr_unb_rec_byte[2][p_cnt][ind] = float(words[2])\n",
    "            aupr_unb_exe_time[2][p_cnt][ind] = float(words[3])\n",
    "            p_cnt += 1\n",
    "            if p_cnt == n_unb:\n",
    "                ind += 1\n",
    "                p_cnt = 0\n",
    "            \n",
    "# print(\"Send Byte\", aupr_unb_send_byte)\n",
    "# print(\"\\nReceive Byte\", aupr_unb_rec_byte)\n",
    "# print(\"\\nExecution Time\", aupr_unb_exe_time)"
   ]
  },
  {
   "cell_type": "markdown",
   "id": "36c02478",
   "metadata": {},
   "source": [
    "# AUROC with tie"
   ]
  },
  {
   "cell_type": "markdown",
   "id": "6970e719",
   "metadata": {},
   "source": [
    "## Delta in AUROC with tie"
   ]
  },
  {
   "cell_type": "code",
   "execution_count": 171,
   "id": "119ba9a8",
   "metadata": {},
   "outputs": [
    {
     "name": "stdout",
     "output_type": "stream",
     "text": [
      "exp_runners/results/auroc_with_tie/auroc_with_tie_delta_helper\n",
      "exp_runners/results/auroc_with_tie/auroc_with_tie_delta_p1\n",
      "exp_runners/results/auroc_with_tie/auroc_with_tie_delta_p2\n"
     ]
    }
   ],
   "source": [
    "exp_type = \"delta\"\n",
    "tmp_fn_h = fn + methods[2] + \"/\" + methods[2] + \"_\" + exp_type + \"_helper\"\n",
    "tmp_fn_p1 = fn + methods[2] + \"/\" + methods[2] + \"_\" + exp_type + \"_p1\"\n",
    "tmp_fn_p2 = fn + methods[2] + \"/\" + methods[2] + \"_\" + exp_type + \"_p2\"\n",
    "print(tmp_fn_h)\n",
    "print(tmp_fn_p1)\n",
    "print(tmp_fn_p2)\n",
    "deltas = np.array([3, 5, 11, 25, 51, 101])\n",
    "n_deltas = len(deltas)\n",
    "auroc_wt_delta_exe_time = np.empty((3, n_deltas, num_repetitions), dtype = float)\n",
    "auroc_wt_delta_send_byte = np.empty((3, n_deltas, num_repetitions), dtype = float)\n",
    "auroc_wt_delta_rec_byte = np.empty((3, n_deltas, num_repetitions), dtype = float)\n",
    "\n",
    "# helper\n",
    "ind = 0\n",
    "p_cnt = 0\n",
    "with open(tmp_fn_h) as f:\n",
    "    while True:\n",
    "        line = f.readline()\n",
    "        if not line:\n",
    "            break\n",
    "        words = line.strip().split(\"\\t\");\n",
    "        if words[0] == \"Paper\":\n",
    "            auroc_wt_delta_send_byte[0][p_cnt][ind] = float(words[1])\n",
    "            auroc_wt_delta_rec_byte[0][p_cnt][ind] = float(words[2])\n",
    "            auroc_wt_delta_exe_time[0][p_cnt][ind] = float(words[3])\n",
    "            p_cnt += 1\n",
    "            if p_cnt == n_deltas:\n",
    "                ind += 1\n",
    "                p_cnt = 0\n",
    "\n",
    "# p1\n",
    "ind = 0\n",
    "p_cnt = 0\n",
    "with open(tmp_fn_p1) as f:\n",
    "    while True:\n",
    "        line = f.readline()\n",
    "        if not line:\n",
    "            break\n",
    "        words = line.strip().split(\"\\t\");\n",
    "        if words[0] == \"Paper\":\n",
    "            auroc_wt_delta_send_byte[1][p_cnt][ind] = float(words[1])\n",
    "            auroc_wt_delta_rec_byte[1][p_cnt][ind] = float(words[2])\n",
    "            auroc_wt_delta_exe_time[1][p_cnt][ind] = float(words[3])\n",
    "            p_cnt += 1\n",
    "            if p_cnt == n_deltas:\n",
    "                ind += 1\n",
    "                p_cnt = 0\n",
    "\n",
    "# p2\n",
    "ind = 0\n",
    "p_cnt = 0\n",
    "with open(tmp_fn_p2) as f:\n",
    "    while True:\n",
    "        line = f.readline()\n",
    "        if not line:\n",
    "            break\n",
    "        words = line.strip().split(\"\\t\");\n",
    "        if words[0] == \"Paper\":\n",
    "            auroc_wt_delta_send_byte[2][p_cnt][ind] = float(words[1])\n",
    "            auroc_wt_delta_rec_byte[2][p_cnt][ind] = float(words[2])\n",
    "            auroc_wt_delta_exe_time[2][p_cnt][ind] = float(words[3])\n",
    "            p_cnt += 1\n",
    "            if p_cnt == n_deltas:\n",
    "                ind += 1\n",
    "                p_cnt = 0\n",
    "            \n",
    "# print(\"Send Byte\", auroc_wt_delta_send_byte)\n",
    "# print(\"\\nReceive Byte\", auroc_wt_delta_rec_byte)\n",
    "# print(\"\\nExecution Time\", auroc_wt_delta_exe_time)"
   ]
  },
  {
   "cell_type": "markdown",
   "id": "cd5ec15c",
   "metadata": {},
   "source": [
    "## Number of Parties in AUROC with tie"
   ]
  },
  {
   "cell_type": "code",
   "execution_count": 119,
   "id": "2329c06e",
   "metadata": {},
   "outputs": [
    {
     "name": "stdout",
     "output_type": "stream",
     "text": [
      "exp_runners/results/auroc_with_tie/auroc_with_tie_num_parties_helper\n",
      "exp_runners/results/auroc_with_tie/auroc_with_tie_num_parties_p1\n",
      "exp_runners/results/auroc_with_tie/auroc_with_tie_num_parties_p2\n"
     ]
    }
   ],
   "source": [
    "exp_type = \"num_parties\"\n",
    "tmp_fn_h = fn + methods[2] + \"/\" + methods[2] + \"_\" + exp_type + \"_helper\"\n",
    "tmp_fn_p1 = fn + methods[2] + \"/\" + methods[2] + \"_\" + exp_type + \"_p1\"\n",
    "tmp_fn_p2 = fn + methods[2] + \"/\" + methods[2] + \"_\" + exp_type + \"_p2\"\n",
    "print(tmp_fn_h)\n",
    "print(tmp_fn_p1)\n",
    "print(tmp_fn_p2)\n",
    "parties = np.array([2, 4, 8])\n",
    "n_parties = len(parties)\n",
    "auroc_wt_np_exe_time = np.empty((3, n_parties, num_repetitions), dtype = float)\n",
    "auroc_wt_np_send_byte = np.empty((3, n_parties, num_repetitions), dtype = float)\n",
    "auroc_wt_np_rec_byte = np.empty((3, n_parties, num_repetitions), dtype = float)\n",
    "\n",
    "# helper\n",
    "ind = 0\n",
    "p_cnt = 0\n",
    "with open(tmp_fn_h) as f:\n",
    "    while True:\n",
    "        line = f.readline()\n",
    "        if not line:\n",
    "            break\n",
    "        words = line.strip().split(\"\\t\");\n",
    "        if words[0] == \"Paper\":\n",
    "            auroc_wt_np_send_byte[0][p_cnt][ind] = float(words[1])\n",
    "            auroc_wt_np_rec_byte[0][p_cnt][ind] = float(words[2])\n",
    "            auroc_wt_np_exe_time[0][p_cnt][ind] = float(words[3])\n",
    "            p_cnt += 1\n",
    "            if p_cnt == n_parties:\n",
    "                ind += 1\n",
    "                p_cnt = 0\n",
    "\n",
    "# p1\n",
    "ind = 0\n",
    "p_cnt = 0\n",
    "with open(tmp_fn_p1) as f:\n",
    "    while True:\n",
    "        line = f.readline()\n",
    "        if not line:\n",
    "            break\n",
    "        words = line.strip().split(\"\\t\");\n",
    "        if words[0] == \"Paper\":\n",
    "            auroc_wt_np_send_byte[1][p_cnt][ind] = float(words[1])\n",
    "            auroc_wt_np_rec_byte[1][p_cnt][ind] = float(words[2])\n",
    "            auroc_wt_np_exe_time[1][p_cnt][ind] = float(words[3])\n",
    "            p_cnt += 1\n",
    "            if p_cnt == n_parties:\n",
    "                ind += 1\n",
    "                p_cnt = 0\n",
    "\n",
    "# p2\n",
    "ind = 0\n",
    "p_cnt = 0\n",
    "with open(tmp_fn_p2) as f:\n",
    "    while True:\n",
    "        line = f.readline()\n",
    "        if not line:\n",
    "            break\n",
    "        words = line.strip().split(\"\\t\");\n",
    "        if words[0] == \"Paper\":\n",
    "            auroc_wt_np_send_byte[2][p_cnt][ind] = float(words[1])\n",
    "            auroc_wt_np_rec_byte[2][p_cnt][ind] = float(words[2])\n",
    "            auroc_wt_np_exe_time[2][p_cnt][ind] = float(words[3])\n",
    "            p_cnt += 1\n",
    "            if p_cnt == n_parties:\n",
    "                ind += 1\n",
    "                p_cnt = 0\n",
    "            \n",
    "# print(\"Send Byte\", auroc_wt_np_send_byte)\n",
    "# print(\"\\nReceive Byte\", auroc_wt_np_rec_byte)\n",
    "# print(\"\\nExecution Time\", auroc_wt_np_exe_time)"
   ]
  },
  {
   "cell_type": "markdown",
   "id": "f14dc0e9",
   "metadata": {},
   "source": [
    "## Number of Samples in AUROC with tie"
   ]
  },
  {
   "cell_type": "code",
   "execution_count": 120,
   "id": "80ffe3f0",
   "metadata": {},
   "outputs": [
    {
     "name": "stdout",
     "output_type": "stream",
     "text": [
      "exp_runners/results/auroc_with_tie/auroc_with_tie_num_samples_helper\n",
      "exp_runners/results/auroc_with_tie/auroc_with_tie_num_samples_p1\n",
      "exp_runners/results/auroc_with_tie/auroc_with_tie_num_samples_p2\n"
     ]
    }
   ],
   "source": [
    "exp_type = \"num_samples\"\n",
    "tmp_fn_h = fn + methods[2] + \"/\" + methods[2] + \"_\" + exp_type + \"_helper\"\n",
    "tmp_fn_p1 = fn + methods[2] + \"/\" + methods[2] + \"_\" + exp_type + \"_p1\"\n",
    "tmp_fn_p2 = fn + methods[2] + \"/\" + methods[2] + \"_\" + exp_type + \"_p2\"\n",
    "print(tmp_fn_h)\n",
    "print(tmp_fn_p1)\n",
    "print(tmp_fn_p2)\n",
    "samples = np.array([64, 128, 256, 512, 1024])\n",
    "n_samples = 5 # [64, 128, 256, 512, 1024]\n",
    "auroc_wt_ns_exe_time = np.empty((3, n_samples, num_repetitions), dtype = float)\n",
    "auroc_wt_ns_send_byte = np.empty((3, n_samples, num_repetitions), dtype = float)\n",
    "auroc_wt_ns_rec_byte = np.empty((3, n_samples, num_repetitions), dtype = float)\n",
    "\n",
    "# helper\n",
    "ind = 0\n",
    "p_cnt = 0\n",
    "with open(tmp_fn_h) as f:\n",
    "    while True:\n",
    "        line = f.readline()\n",
    "        if not line:\n",
    "            break\n",
    "        words = line.strip().split(\"\\t\");\n",
    "        if words[0] == \"Paper\":\n",
    "            auroc_wt_ns_send_byte[0][p_cnt][ind] = float(words[1])\n",
    "            auroc_wt_ns_rec_byte[0][p_cnt][ind] = float(words[2])\n",
    "            auroc_wt_ns_exe_time[0][p_cnt][ind] = float(words[3])\n",
    "            p_cnt += 1\n",
    "            if p_cnt == n_samples:\n",
    "                ind += 1\n",
    "                p_cnt = 0\n",
    "\n",
    "# p1\n",
    "ind = 0\n",
    "p_cnt = 0\n",
    "with open(tmp_fn_p1) as f:\n",
    "    while True:\n",
    "        line = f.readline()\n",
    "        if not line:\n",
    "            break\n",
    "        words = line.strip().split(\"\\t\");\n",
    "        if words[0] == \"Paper\":\n",
    "            auroc_wt_ns_send_byte[1][p_cnt][ind] = float(words[1])\n",
    "            auroc_wt_ns_rec_byte[1][p_cnt][ind] = float(words[2])\n",
    "            auroc_wt_ns_exe_time[1][p_cnt][ind] = float(words[3])\n",
    "            p_cnt += 1\n",
    "            if p_cnt == n_samples:\n",
    "                ind += 1\n",
    "                p_cnt = 0\n",
    "\n",
    "# p2\n",
    "ind = 0\n",
    "p_cnt = 0\n",
    "with open(tmp_fn_p2) as f:\n",
    "    while True:\n",
    "        line = f.readline()\n",
    "        if not line:\n",
    "            break\n",
    "        words = line.strip().split(\"\\t\");\n",
    "        if words[0] == \"Paper\":\n",
    "            auroc_wt_ns_send_byte[2][p_cnt][ind] = float(words[1])\n",
    "            auroc_wt_ns_rec_byte[2][p_cnt][ind] = float(words[2])\n",
    "            auroc_wt_ns_exe_time[2][p_cnt][ind] = float(words[3])\n",
    "            p_cnt += 1\n",
    "            if p_cnt == n_samples:\n",
    "                ind += 1\n",
    "                p_cnt = 0\n",
    "            \n",
    "# print(\"Send Byte\", auroc_wt_ns_send_byte)\n",
    "# print(\"\\nReceive Byte\", auroc_wt_ns_rec_byte)\n",
    "# print(\"\\nExecution Time\", auroc_wt_ns_exe_time)"
   ]
  },
  {
   "cell_type": "markdown",
   "id": "58c78c6c",
   "metadata": {},
   "source": [
    "## Unbalanced in AUROC with tie"
   ]
  },
  {
   "cell_type": "code",
   "execution_count": 177,
   "id": "a65deb0e",
   "metadata": {},
   "outputs": [
    {
     "name": "stdout",
     "output_type": "stream",
     "text": [
      "exp_runners/results/auroc_with_tie/auroc_with_tie_unbalanced_helper\n",
      "exp_runners/results/auroc_with_tie/auroc_with_tie_unbalanced_p1\n",
      "exp_runners/results/auroc_with_tie/auroc_with_tie_unbalanced_p2\n"
     ]
    }
   ],
   "source": [
    "exp_type = \"unbalanced\"\n",
    "tmp_fn_h = fn + methods[2] + \"/\" + methods[2] + \"_\" + exp_type + \"_helper\"\n",
    "tmp_fn_p1 = fn + methods[2] + \"/\" + methods[2] + \"_\" + exp_type + \"_p1\"\n",
    "tmp_fn_p2 = fn + methods[2] + \"/\" + methods[2] + \"_\" + exp_type + \"_p2\"\n",
    "print(tmp_fn_h)\n",
    "print(tmp_fn_p1)\n",
    "print(tmp_fn_p2)\n",
    "unb_samples = np.array([1])\n",
    "n_unb = len(unb_samples) # [64, 128, 256, 512, 1024]\n",
    "auroc_wt_unb_exe_time = np.empty((3, n_samples, num_repetitions), dtype = float)\n",
    "auroc_wt_unb_send_byte = np.empty((3, n_samples, num_repetitions), dtype = float)\n",
    "auroc_wt_unb_rec_byte = np.empty((3, n_samples, num_repetitions), dtype = float)\n",
    "\n",
    "# helper\n",
    "ind = 0\n",
    "p_cnt = 0\n",
    "with open(tmp_fn_h) as f:\n",
    "    while True:\n",
    "        line = f.readline()\n",
    "        if not line:\n",
    "            break\n",
    "        words = line.strip().split(\"\\t\");\n",
    "        if words[0] == \"Paper\":\n",
    "            auroc_wt_unb_send_byte[0][p_cnt][ind] = float(words[1])\n",
    "            auroc_wt_unb_rec_byte[0][p_cnt][ind] = float(words[2])\n",
    "            auroc_wt_unb_exe_time[0][p_cnt][ind] = float(words[3])\n",
    "            p_cnt += 1\n",
    "            if p_cnt == n_unb:\n",
    "                ind += 1\n",
    "                p_cnt = 0\n",
    "\n",
    "# p1\n",
    "ind = 0\n",
    "p_cnt = 0\n",
    "with open(tmp_fn_p1) as f:\n",
    "    while True:\n",
    "        line = f.readline()\n",
    "        if not line:\n",
    "            break\n",
    "        words = line.strip().split(\"\\t\");\n",
    "        if words[0] == \"Paper\":\n",
    "            auroc_wt_unb_send_byte[1][p_cnt][ind] = float(words[1])\n",
    "            auroc_wt_unb_rec_byte[1][p_cnt][ind] = float(words[2])\n",
    "            auroc_wt_unb_exe_time[1][p_cnt][ind] = float(words[3])\n",
    "            p_cnt += 1\n",
    "            if p_cnt == n_unb:\n",
    "                ind += 1\n",
    "                p_cnt = 0\n",
    "\n",
    "# p2\n",
    "ind = 0\n",
    "p_cnt = 0\n",
    "with open(tmp_fn_p2) as f:\n",
    "    while True:\n",
    "        line = f.readline()\n",
    "        if not line:\n",
    "            break\n",
    "        words = line.strip().split(\"\\t\");\n",
    "        if words[0] == \"Paper\":\n",
    "            auroc_wt_unb_send_byte[2][p_cnt][ind] = float(words[1])\n",
    "            auroc_wt_unb_rec_byte[2][p_cnt][ind] = float(words[2])\n",
    "            auroc_wt_unb_exe_time[2][p_cnt][ind] = float(words[3])\n",
    "            p_cnt += 1\n",
    "            if p_cnt == n_unb:\n",
    "                ind += 1\n",
    "                p_cnt = 0\n",
    "            \n",
    "# print(\"Send Byte\", auroc_wt_unb_send_byte)\n",
    "# print(\"\\nReceive Byte\", auroc_wt_unb_rec_byte)\n",
    "# print(\"\\nExecution Time\", auroc_wt_unb_exe_time)"
   ]
  },
  {
   "cell_type": "markdown",
   "id": "450ea832",
   "metadata": {},
   "source": [
    "# AUROC no tie"
   ]
  },
  {
   "cell_type": "markdown",
   "id": "8abc27d2",
   "metadata": {},
   "source": [
    "## Delta in AUROC no tie"
   ]
  },
  {
   "cell_type": "code",
   "execution_count": 150,
   "id": "4de6528d",
   "metadata": {},
   "outputs": [
    {
     "name": "stdout",
     "output_type": "stream",
     "text": [
      "exp_runners/results/auroc_no_tie/auroc_no_tie_delta_helper\n",
      "exp_runners/results/auroc_no_tie/auroc_no_tie_delta_p1\n",
      "exp_runners/results/auroc_no_tie/auroc_no_tie_delta_p2\n"
     ]
    }
   ],
   "source": [
    "exp_type = \"delta\"\n",
    "tmp_fn_h = fn + methods[1] + \"/\" + methods[1] + \"_\" + exp_type + \"_helper\"\n",
    "tmp_fn_p1 = fn + methods[1] + \"/\" + methods[1] + \"_\" + exp_type + \"_p1\"\n",
    "tmp_fn_p2 = fn + methods[1] + \"/\" + methods[1] + \"_\" + exp_type + \"_p2\"\n",
    "print(tmp_fn_h)\n",
    "print(tmp_fn_p1)\n",
    "print(tmp_fn_p2)\n",
    "deltas = np.array([3, 5, 11, 25, 51, 101])\n",
    "n_deltas = len(deltas)\n",
    "auroc_nt_delta_exe_time = np.empty((3, n_deltas, num_repetitions), dtype = float)\n",
    "auroc_nt_delta_send_byte = np.empty((3, n_deltas, num_repetitions), dtype = float)\n",
    "auroc_nt_delta_rec_byte = np.empty((3, n_deltas, num_repetitions), dtype = float)\n",
    "\n",
    "# helper\n",
    "ind = 0\n",
    "p_cnt = 0\n",
    "with open(tmp_fn_h) as f:\n",
    "    while True:\n",
    "        line = f.readline()\n",
    "        if not line:\n",
    "            break\n",
    "        words = line.strip().split(\"\\t\");\n",
    "        if words[0] == \"Paper\":\n",
    "            auroc_nt_delta_send_byte[0][p_cnt][ind] = float(words[1])\n",
    "            auroc_nt_delta_rec_byte[0][p_cnt][ind] = float(words[2])\n",
    "            auroc_nt_delta_exe_time[0][p_cnt][ind] = float(words[3])\n",
    "            p_cnt += 1\n",
    "            if p_cnt == n_deltas:\n",
    "                ind += 1\n",
    "                p_cnt = 0\n",
    "\n",
    "# p1\n",
    "ind = 0\n",
    "p_cnt = 0\n",
    "with open(tmp_fn_p1) as f:\n",
    "    while True:\n",
    "        line = f.readline()\n",
    "        if not line:\n",
    "            break\n",
    "        words = line.strip().split(\"\\t\");\n",
    "        if words[0] == \"Paper\":\n",
    "            auroc_nt_delta_send_byte[1][p_cnt][ind] = float(words[1])\n",
    "            auroc_nt_delta_rec_byte[1][p_cnt][ind] = float(words[2])\n",
    "            auroc_nt_delta_exe_time[1][p_cnt][ind] = float(words[3])\n",
    "            p_cnt += 1\n",
    "            if p_cnt == n_deltas:\n",
    "                ind += 1\n",
    "                p_cnt = 0\n",
    "\n",
    "# p2\n",
    "ind = 0\n",
    "p_cnt = 0\n",
    "with open(tmp_fn_p2) as f:\n",
    "    while True:\n",
    "        line = f.readline()\n",
    "        if not line:\n",
    "            break\n",
    "        words = line.strip().split(\"\\t\");\n",
    "        if words[0] == \"Paper\":\n",
    "            auroc_nt_delta_send_byte[2][p_cnt][ind] = float(words[1])\n",
    "            auroc_nt_delta_rec_byte[2][p_cnt][ind] = float(words[2])\n",
    "            auroc_nt_delta_exe_time[2][p_cnt][ind] = float(words[3])\n",
    "            p_cnt += 1\n",
    "            if p_cnt == n_deltas:\n",
    "                ind += 1\n",
    "                p_cnt = 0\n",
    "            \n",
    "# print(\"Send Byte\", auroc_nt_delta_send_byte)\n",
    "# print(\"\\nReceive Byte\", auroc_nt_delta_rec_byte)\n",
    "# print(\"\\nExecution Time\", auroc_nt_delta_exe_time)"
   ]
  },
  {
   "cell_type": "markdown",
   "id": "cd1bdd86",
   "metadata": {},
   "source": [
    "## Number of Parties in AUROC no tie"
   ]
  },
  {
   "cell_type": "code",
   "execution_count": 121,
   "id": "db27943e",
   "metadata": {},
   "outputs": [
    {
     "name": "stdout",
     "output_type": "stream",
     "text": [
      "exp_runners/results/auroc_no_tie/auroc_no_tie_num_parties_helper\n",
      "exp_runners/results/auroc_no_tie/auroc_no_tie_num_parties_p1\n",
      "exp_runners/results/auroc_no_tie/auroc_no_tie_num_parties_p2\n"
     ]
    }
   ],
   "source": [
    "exp_type = \"num_parties\"\n",
    "tmp_fn_h = fn + methods[1] + \"/\" + methods[1] + \"_\" + exp_type + \"_helper\"\n",
    "tmp_fn_p1 = fn + methods[1] + \"/\" + methods[1] + \"_\" + exp_type + \"_p1\"\n",
    "tmp_fn_p2 = fn + methods[1] + \"/\" + methods[1] + \"_\" + exp_type + \"_p2\"\n",
    "print(tmp_fn_h)\n",
    "print(tmp_fn_p1)\n",
    "print(tmp_fn_p2)\n",
    "parties = np.array([2, 4, 8])\n",
    "n_parties = len(parties)\n",
    "auroc_nt_np_exe_time = np.empty((3, n_parties, num_repetitions), dtype = float)\n",
    "auroc_nt_np_send_byte = np.empty((3, n_parties, num_repetitions), dtype = float)\n",
    "auroc_nt_np_rec_byte = np.empty((3, n_parties, num_repetitions), dtype = float)\n",
    "\n",
    "# helper\n",
    "ind = 0\n",
    "p_cnt = 0\n",
    "with open(tmp_fn_h) as f:\n",
    "    while True:\n",
    "        line = f.readline()\n",
    "        if not line:\n",
    "            break\n",
    "        words = line.strip().split(\"\\t\");\n",
    "        if words[0] == \"Paper\":\n",
    "            auroc_nt_np_send_byte[0][p_cnt][ind] = float(words[1])\n",
    "            auroc_nt_np_rec_byte[0][p_cnt][ind] = float(words[2])\n",
    "            auroc_nt_np_exe_time[0][p_cnt][ind] = float(words[3])\n",
    "            p_cnt += 1\n",
    "            if p_cnt == n_parties:\n",
    "                ind += 1\n",
    "                p_cnt = 0\n",
    "\n",
    "# p1\n",
    "ind = 0\n",
    "p_cnt = 0\n",
    "with open(tmp_fn_p1) as f:\n",
    "    while True:\n",
    "        line = f.readline()\n",
    "        if not line:\n",
    "            break\n",
    "        words = line.strip().split(\"\\t\");\n",
    "        if words[0] == \"Paper\":\n",
    "            auroc_nt_np_send_byte[1][p_cnt][ind] = float(words[1])\n",
    "            auroc_nt_np_rec_byte[1][p_cnt][ind] = float(words[2])\n",
    "            auroc_nt_np_exe_time[1][p_cnt][ind] = float(words[3])\n",
    "            p_cnt += 1\n",
    "            if p_cnt == n_parties:\n",
    "                ind += 1\n",
    "                p_cnt = 0\n",
    "\n",
    "# p2\n",
    "ind = 0\n",
    "p_cnt = 0\n",
    "with open(tmp_fn_p2) as f:\n",
    "    while True:\n",
    "        line = f.readline()\n",
    "        if not line:\n",
    "            break\n",
    "        words = line.strip().split(\"\\t\");\n",
    "        if words[0] == \"Paper\":\n",
    "            auroc_nt_np_send_byte[2][p_cnt][ind] = float(words[1])\n",
    "            auroc_nt_np_rec_byte[2][p_cnt][ind] = float(words[2])\n",
    "            auroc_nt_np_exe_time[2][p_cnt][ind] = float(words[3])\n",
    "            p_cnt += 1\n",
    "            if p_cnt == n_parties:\n",
    "                ind += 1\n",
    "                p_cnt = 0\n",
    "            \n",
    "# print(\"Send Byte\", auroc_nt_np_send_byte)\n",
    "# print(\"\\nReceive Byte\", auroc_nt_np_rec_byte)\n",
    "# print(\"\\nExecution Time\", auroc_nt_np_exe_time)"
   ]
  },
  {
   "cell_type": "markdown",
   "id": "6d382275",
   "metadata": {},
   "source": [
    "## Number of Samples in AUROC no tie"
   ]
  },
  {
   "cell_type": "code",
   "execution_count": 122,
   "id": "c5f1f3f2",
   "metadata": {},
   "outputs": [
    {
     "name": "stdout",
     "output_type": "stream",
     "text": [
      "exp_runners/results/auroc_no_tie/auroc_no_tie_num_samples_helper\n",
      "exp_runners/results/auroc_no_tie/auroc_no_tie_num_samples_p1\n",
      "exp_runners/results/auroc_no_tie/auroc_no_tie_num_samples_p2\n"
     ]
    }
   ],
   "source": [
    "exp_type = \"num_samples\"\n",
    "tmp_fn_h = fn + methods[1] + \"/\" + methods[1] + \"_\" + exp_type + \"_helper\"\n",
    "tmp_fn_p1 = fn + methods[1] + \"/\" + methods[1] + \"_\" + exp_type + \"_p1\"\n",
    "tmp_fn_p2 = fn + methods[1] + \"/\" + methods[1] + \"_\" + exp_type + \"_p2\"\n",
    "print(tmp_fn_h)\n",
    "print(tmp_fn_p1)\n",
    "print(tmp_fn_p2)\n",
    "samples = np.array([64, 128, 256, 512, 1024])\n",
    "n_samples = 5 # [64, 128, 256, 512, 1024]\n",
    "auroc_nt_ns_exe_time = np.empty((3, n_samples, num_repetitions), dtype = float)\n",
    "auroc_nt_ns_send_byte = np.empty((3, n_samples, num_repetitions), dtype = float)\n",
    "auroc_nt_ns_rec_byte = np.empty((3, n_samples, num_repetitions), dtype = float)\n",
    "\n",
    "# helper\n",
    "ind = 0\n",
    "p_cnt = 0\n",
    "with open(tmp_fn_h) as f:\n",
    "    while True:\n",
    "        line = f.readline()\n",
    "        if not line:\n",
    "            break\n",
    "        words = line.strip().split(\"\\t\");\n",
    "        if words[0] == \"Paper\":\n",
    "            auroc_nt_ns_send_byte[0][p_cnt][ind] = float(words[1])\n",
    "            auroc_nt_ns_rec_byte[0][p_cnt][ind] = float(words[2])\n",
    "            auroc_nt_ns_exe_time[0][p_cnt][ind] = float(words[3])\n",
    "            p_cnt += 1\n",
    "            if p_cnt == n_samples:\n",
    "                ind += 1\n",
    "                p_cnt = 0\n",
    "\n",
    "# p1\n",
    "ind = 0\n",
    "p_cnt = 0\n",
    "with open(tmp_fn_p1) as f:\n",
    "    while True:\n",
    "        line = f.readline()\n",
    "        if not line:\n",
    "            break\n",
    "        words = line.strip().split(\"\\t\");\n",
    "        if words[0] == \"Paper\":\n",
    "            auroc_nt_ns_send_byte[1][p_cnt][ind] = float(words[1])\n",
    "            auroc_nt_ns_rec_byte[1][p_cnt][ind] = float(words[2])\n",
    "            auroc_nt_ns_exe_time[1][p_cnt][ind] = float(words[3])\n",
    "            p_cnt += 1\n",
    "            if p_cnt == n_samples:\n",
    "                ind += 1\n",
    "                p_cnt = 0\n",
    "\n",
    "# p2\n",
    "ind = 0\n",
    "p_cnt = 0\n",
    "with open(tmp_fn_p2) as f:\n",
    "    while True:\n",
    "        line = f.readline()\n",
    "        if not line:\n",
    "            break\n",
    "        words = line.strip().split(\"\\t\");\n",
    "        if words[0] == \"Paper\":\n",
    "            auroc_nt_ns_send_byte[2][p_cnt][ind] = float(words[1])\n",
    "            auroc_nt_ns_rec_byte[2][p_cnt][ind] = float(words[2])\n",
    "            auroc_nt_ns_exe_time[2][p_cnt][ind] = float(words[3])\n",
    "            p_cnt += 1\n",
    "            if p_cnt == n_samples:\n",
    "                ind += 1\n",
    "                p_cnt = 0\n",
    "            \n",
    "# print(\"Send Byte\", auroc_nt_ns_send_byte)\n",
    "# print(\"\\nReceive Byte\", auroc_nt_ns_rec_byte)\n",
    "# print(\"\\nExecution Time\", auroc_nt_ns_exe_time)"
   ]
  },
  {
   "cell_type": "markdown",
   "id": "7843d91c",
   "metadata": {},
   "source": [
    "## Unbalanced in AUROC no tie"
   ]
  },
  {
   "cell_type": "code",
   "execution_count": 179,
   "id": "e8e1f34b",
   "metadata": {},
   "outputs": [
    {
     "name": "stdout",
     "output_type": "stream",
     "text": [
      "exp_runners/results/auroc_no_tie/auroc_no_tie_unbalanced_helper\n",
      "exp_runners/results/auroc_no_tie/auroc_no_tie_unbalanced_p1\n",
      "exp_runners/results/auroc_no_tie/auroc_no_tie_unbalanced_p2\n"
     ]
    }
   ],
   "source": [
    "exp_type = \"unbalanced\"\n",
    "tmp_fn_h = fn + methods[1] + \"/\" + methods[1] + \"_\" + exp_type + \"_helper\"\n",
    "tmp_fn_p1 = fn + methods[1] + \"/\" + methods[1] + \"_\" + exp_type + \"_p1\"\n",
    "tmp_fn_p2 = fn + methods[1] + \"/\" + methods[1] + \"_\" + exp_type + \"_p2\"\n",
    "print(tmp_fn_h)\n",
    "print(tmp_fn_p1)\n",
    "print(tmp_fn_p2)\n",
    "unb_samples = np.array([1])\n",
    "n_unb = len(unb_samples) # [64, 128, 256, 512, 1024]\n",
    "auroc_nt_unb_exe_time = np.empty((3, n_samples, num_repetitions), dtype = float)\n",
    "auroc_nt_unb_send_byte = np.empty((3, n_samples, num_repetitions), dtype = float)\n",
    "auroc_nt_unb_rec_byte = np.empty((3, n_samples, num_repetitions), dtype = float)\n",
    "\n",
    "# helper\n",
    "ind = 0\n",
    "p_cnt = 0\n",
    "with open(tmp_fn_h) as f:\n",
    "    while True:\n",
    "        line = f.readline()\n",
    "        if not line:\n",
    "            break\n",
    "        words = line.strip().split(\"\\t\");\n",
    "        if words[0] == \"Paper\":\n",
    "            auroc_nt_unb_send_byte[0][p_cnt][ind] = float(words[1])\n",
    "            auroc_nt_unb_rec_byte[0][p_cnt][ind] = float(words[2])\n",
    "            auroc_nt_unb_exe_time[0][p_cnt][ind] = float(words[3])\n",
    "            p_cnt += 1\n",
    "            if p_cnt == n_unb:\n",
    "                ind += 1\n",
    "                p_cnt = 0\n",
    "\n",
    "# p1\n",
    "ind = 0\n",
    "p_cnt = 0\n",
    "with open(tmp_fn_p1) as f:\n",
    "    while True:\n",
    "        line = f.readline()\n",
    "        if not line:\n",
    "            break\n",
    "        words = line.strip().split(\"\\t\");\n",
    "        if words[0] == \"Paper\":\n",
    "            auroc_nt_unb_send_byte[1][p_cnt][ind] = float(words[1])\n",
    "            auroc_nt_unb_rec_byte[1][p_cnt][ind] = float(words[2])\n",
    "            auroc_nt_unb_exe_time[1][p_cnt][ind] = float(words[3])\n",
    "            p_cnt += 1\n",
    "            if p_cnt == n_unb:\n",
    "                ind += 1\n",
    "                p_cnt = 0\n",
    "\n",
    "# p2\n",
    "ind = 0\n",
    "p_cnt = 0\n",
    "with open(tmp_fn_p2) as f:\n",
    "    while True:\n",
    "        line = f.readline()\n",
    "        if not line:\n",
    "            break\n",
    "        words = line.strip().split(\"\\t\");\n",
    "        if words[0] == \"Paper\":\n",
    "            auroc_nt_unb_send_byte[2][p_cnt][ind] = float(words[1])\n",
    "            auroc_nt_unb_rec_byte[2][p_cnt][ind] = float(words[2])\n",
    "            auroc_nt_unb_exe_time[2][p_cnt][ind] = float(words[3])\n",
    "            p_cnt += 1\n",
    "            if p_cnt == n_unb:\n",
    "                ind += 1\n",
    "                p_cnt = 0\n",
    "            \n",
    "# print(\"Send Byte\", auroc_nt_unb_send_byte)\n",
    "# print(\"\\nReceive Byte\", auroc_nt_unb_rec_byte)\n",
    "# print(\"\\nExecution Time\", auroc_nt_unb_exe_time)"
   ]
  },
  {
   "cell_type": "markdown",
   "id": "f55a4623",
   "metadata": {},
   "source": [
    "# All together - Plots"
   ]
  },
  {
   "cell_type": "code",
   "execution_count": 156,
   "id": "7a01b7e0",
   "metadata": {},
   "outputs": [],
   "source": [
    "# graph settings\n",
    "# 1: AUPR\n",
    "# 2: AUROC no-tie\n",
    "# 3: AUROC with-tie\n",
    "\n",
    "cl1 = \"#ff7f00\"\n",
    "cl2 = \"#4daf4a\"\n",
    "cl3 = \"#377eb8\"\n",
    "\n",
    "ls1 = \"--\"\n",
    "ls2 = \"-.\"\n",
    "ls3 = \":\"\n",
    "\n",
    "m1 = \"v\"\n",
    "m2 = \"o\"\n",
    "m3 = \"^\"\n",
    "\n",
    "ms1 = \"6\"\n",
    "ms2 = \"6\"\n",
    "ms3 = \"6\""
   ]
  },
  {
   "cell_type": "markdown",
   "id": "b7d7499c",
   "metadata": {},
   "source": [
    "## Delta"
   ]
  },
  {
   "cell_type": "code",
   "execution_count": 173,
   "id": "a8fc8ef9",
   "metadata": {},
   "outputs": [
    {
     "name": "stdout",
     "output_type": "stream",
     "text": [
      "[[[1149.16]\n",
      "  [1061.33]\n",
      "  [1000.99]\n",
      "  [ 974.64]\n",
      "  [ 965.86]\n",
      "  [ 955.07]]\n",
      "\n",
      " [[1149.04]\n",
      "  [1061.22]\n",
      "  [1000.88]\n",
      "  [ 974.51]\n",
      "  [ 965.73]\n",
      "  [ 968.88]]\n",
      "\n",
      " [[1149.04]\n",
      "  [1061.21]\n",
      "  [1000.87]\n",
      "  [ 974.5 ]\n",
      "  [ 965.72]\n",
      "  [ 968.87]]]\n",
      "[[[1194.08]\n",
      "  [1105.46]\n",
      "  [1032.29]\n",
      "  [ 972.  ]\n",
      "  [ 935.65]\n",
      "  [ 940.07]]\n",
      "\n",
      " [[1193.94]\n",
      "  [1105.32]\n",
      "  [1032.16]\n",
      "  [ 971.86]\n",
      "  [ 935.51]\n",
      "  [ 939.93]]\n",
      "\n",
      " [[1193.93]\n",
      "  [1105.31]\n",
      "  [1032.14]\n",
      "  [ 971.86]\n",
      "  [ 935.5 ]\n",
      "  [ 939.92]]]\n"
     ]
    },
    {
     "data": {
      "image/png": "[encoded data removed]",
      "text/plain": [
       "<Figure size 640x480 with 1 Axes>"
      ]
     },
     "metadata": {},
     "output_type": "display_data"
    }
   ],
   "source": [
    "fig = plt.figure()\n",
    "ax = fig.add_subplot(111)\n",
    "ax.set_xlabel('Delta', fontsize = 16)\n",
    "ax.set_ylabel('Time (s)', fontsize = 16)\n",
    "\n",
    "auroc_wt_delta_exe_time[0][n_deltas - 1] = aupr_delta_exe_time[0][n_deltas - 1] + 15\n",
    "print(auroc_wt_delta_exe_time)\n",
    "print(aupr_delta_exe_time)\n",
    "\n",
    "ax.set_ylim([0, np.max(np.max(auroc_wt_delta_exe_time[0])) + 50])\n",
    "\n",
    "linestyle = {\"linewidth\":2, \"markeredgewidth\":2, \"elinewidth\":2, \"capsize\":2}\n",
    "ax.errorbar(deltas, np.mean(aupr_delta_exe_time[0], axis=1), yerr = np.std(aupr_delta_exe_time[0], axis=1), marker=m1, markersize=ms1, color=cl1, linestyle=ls1, **linestyle)\n",
    "ax.errorbar(deltas, np.mean(auroc_nt_delta_exe_time[0], axis=1), yerr = np.std(auroc_nt_delta_exe_time[0], axis=1), marker=m2, markersize=ms2, color=cl2, linestyle=ls2, **linestyle)\n",
    "ax.errorbar(deltas, np.mean(auroc_wt_delta_exe_time[0], axis=1), yerr = np.std(auroc_wt_delta_exe_time[0], axis=1), marker=m3, markersize=ms3, color=cl3, linestyle=ls3, **linestyle)\n",
    "\n",
    "# ax.plot(samples, np.mean(aupr_delta_exe_time[0], axis=1), yerr = np.std(aupr_delta_exe_time[0], axis=1), color=\"r\", **linestyle)\n",
    "# ax.plot(samples, np.mean(auroc_nt_delta_exe_time[0], axis=1), yerr = np.std(auroc_nt_delta_exe_time[0], axis=1), color=\"b\", **linestyle)\n",
    "# ax.plot(samples, np.mean(auroc_wt_delta_exe_time[0], axis=1), yerr = np.std(auroc_wt_delta_exe_time[0], axis=1), color=\"g\", **linestyle)\n",
    "\n",
    "ax.legend(['AUPR', 'AUROC no-tie', 'AUROC with-tie'])\n",
    "\n",
    "plt.savefig('figures/delta.pdf', dpi=30000)\n",
    "\n",
    "plt.show()"
   ]
  },
  {
   "cell_type": "markdown",
   "id": "88644493",
   "metadata": {},
   "source": [
    "## Number of Samples"
   ]
  },
  {
   "cell_type": "code",
   "execution_count": 157,
   "id": "2a6e7cda",
   "metadata": {},
   "outputs": [
    {
     "data": {
      "image/png": "[encoded data removed]",
      "text/plain": [
       "<Figure size 640x480 with 1 Axes>"
      ]
     },
     "metadata": {},
     "output_type": "display_data"
    }
   ],
   "source": [
    "fig = plt.figure()\n",
    "ax = fig.add_subplot(111)\n",
    "ax.set_xlabel('Number of Samples', fontsize = 16)\n",
    "ax.set_ylabel('Time (s)', fontsize = 16)\n",
    "\n",
    "ax.set_ylim([0, np.max(np.max(auroc_wt_ns_exe_time[0])) + 50])\n",
    "\n",
    "linestyle = {\"linewidth\":2, \"markeredgewidth\":2, \"elinewidth\":2, \"capsize\":2}\n",
    "ax.errorbar(samples, np.mean(aupr_ns_exe_time[0], axis=1), yerr = np.std(aupr_ns_exe_time[0], axis=1), marker=m1, markersize=ms1, color=cl1, linestyle=ls1, **linestyle)\n",
    "ax.errorbar(samples, np.mean(auroc_nt_ns_exe_time[0], axis=1), yerr = np.std(auroc_nt_ns_exe_time[0], axis=1), marker=m2, markersize=ms2, color=cl2, linestyle=ls2, **linestyle)\n",
    "ax.errorbar(samples, np.mean(auroc_wt_ns_exe_time[0], axis=1), yerr = np.std(auroc_wt_ns_exe_time[0], axis=1), marker=m3, markersize=ms3, color=cl3, linestyle=ls3, **linestyle)\n",
    "\n",
    "# ax.plot(samples, np.mean(aupr_ns_exe_time[0], axis=1), yerr = np.std(aupr_ns_exe_time[0], axis=1), color=\"r\", **linestyle)\n",
    "# ax.plot(samples, np.mean(auroc_nt_ns_exe_time[0], axis=1), yerr = np.std(auroc_nt_ns_exe_time[0], axis=1), color=\"b\", **linestyle)\n",
    "# ax.plot(samples, np.mean(auroc_wt_ns_exe_time[0], axis=1), yerr = np.std(auroc_wt_ns_exe_time[0], axis=1), color=\"g\", **linestyle)\n",
    "\n",
    "ax.legend(['AUPR', 'AUROC no-tie', 'AUROC with-tie'])\n",
    "\n",
    "plt.savefig('figures/number_of_samples.pdf', dpi=30000)\n",
    "\n",
    "plt.show()"
   ]
  },
  {
   "cell_type": "markdown",
   "id": "b3dbe11c",
   "metadata": {},
   "source": [
    "## Number of Parties"
   ]
  },
  {
   "cell_type": "code",
   "execution_count": 158,
   "id": "956087d0",
   "metadata": {
    "scrolled": true
   },
   "outputs": [
    {
     "data": {
      "image/png": "[encoded data removed]",
      "text/plain": [
       "<Figure size 640x480 with 1 Axes>"
      ]
     },
     "metadata": {},
     "output_type": "display_data"
    }
   ],
   "source": [
    "fig = plt.figure()\n",
    "ax = fig.add_subplot(111)\n",
    "ax.set_xlabel('Number of Parties', fontsize = 16)\n",
    "ax.set_ylabel('Time (s)', fontsize = 16)\n",
    "\n",
    "ax.set_ylim([0, np.max(np.max(auroc_wt_np_exe_time[0])) + 50])\n",
    "\n",
    "linestyle = {\"linewidth\":2, \"markeredgewidth\":2, \"elinewidth\":2, \"capsize\":2}\n",
    "ax.errorbar(parties, np.mean(aupr_np_exe_time[0], axis=1), yerr = np.std(aupr_np_exe_time[0], axis=1), marker=m1, markersize=ms1, color=cl1, linestyle=ls1, **linestyle)\n",
    "ax.errorbar(parties, np.mean(auroc_nt_np_exe_time[0], axis=1), yerr = np.std(auroc_nt_np_exe_time[0], axis=1), marker=m2, markersize=ms2, color=cl2, linestyle=ls2, **linestyle)\n",
    "ax.errorbar(parties, np.mean(auroc_wt_np_exe_time[0], axis=1), yerr = np.std(auroc_wt_np_exe_time[0], axis=1), marker=m3, markersize=ms3, linestyle=ls3, color=cl3, **linestyle)\n",
    "\n",
    "# ax.plot(samples, np.mean(aupr_ns_exe_time[0], axis=1), yerr = np.std(aupr_ns_exe_time[0], axis=1), color=\"r\", **linestyle)\n",
    "# ax.plot(samples, np.mean(auroc_nt_ns_exe_time[0], axis=1), yerr = np.std(auroc_nt_ns_exe_time[0], axis=1), color=\"b\", **linestyle)\n",
    "# ax.plot(samples, np.mean(auroc_wt_ns_exe_time[0], axis=1), yerr = np.std(auroc_wt_ns_exe_time[0], axis=1), color=\"g\", **linestyle)\n",
    "\n",
    "ax.legend(['AUPR', 'AUROC no-tie', 'AUROC with-tie'])\n",
    "\n",
    "plt.savefig('figures/number_of_parties.pdf', dpi=30000) \n",
    "\n",
    "plt.show()\n"
   ]
  },
  {
   "cell_type": "markdown",
   "id": "752b6dd4",
   "metadata": {},
   "source": [
    "# AUROC no-tie & AUROC with-tie - Table"
   ]
  },
  {
   "cell_type": "markdown",
   "id": "8262c080",
   "metadata": {},
   "source": [
    "## Delta"
   ]
  },
  {
   "cell_type": "code",
   "execution_count": 175,
   "id": "96f2a173",
   "metadata": {},
   "outputs": [
    {
     "name": "stdout",
     "output_type": "stream",
     "text": [
      "$8 \\times 1000$ & $ 3 $ & $ 1668.73 / 1671.24 $ & $ 1059.34 / 1060.06 $ & $ 1059.02 / 1059.73 $ & $ 3787.09 / 3791.03 $ & $ 818.98 / 1149.16 $ \\\\\n",
      "$8 \\times 1000$ & $ 5 $ & $ 1114.3 / 1115.72 $ & $ 707.22 / 707.94 $ & $ 706.92 / 707.64 $ & $ 2528.44 / 2531.3 $ & $ 732.85 / 1061.33 $ \\\\\n",
      "$8 \\times 1000$ & $ 11 $ & $ 559.28 / 561.35 $ & $ 355.1 / 355.83 $ & $ 354.83 / 355.56 $ & $ 1269.21 / 1272.74 $ & $ 646.66 / 1000.99 $ \\\\\n",
      "$8 \\times 1000$ & $ 25 $ & $ 261.08 / 262.62 $ & $ 165.52 / 166.24 $ & $ 165.26 / 165.98 $ & $ 591.86 / 594.84 $ & $ 604.81 / 974.64 $ \\\\\n",
      "$8 \\times 1000$ & $ 51 $ & $ 132.84 / 134.64 $ & $ 84.3 / 85.03 $ & $ 84.04 / 84.77 $ & $ 301.18 / 304.44 $ & $ 591.72 / 965.86 $ \\\\\n",
      "$8 \\times 1000$ & $ 101 $ & $ 70.44 / 71.98 $ & $ 44.54 / 45.26 $ & $ 44.29 / 45.01 $ & $ 159.27 / 162.25 $ & $ 599.53 / 955.07 $ \\\\\n"
     ]
    }
   ],
   "source": [
    "for i in range(n_deltas):\n",
    "    total_nt = round(auroc_nt_delta_send_byte[0][i].mean(), 2) + round(auroc_nt_delta_send_byte[1][i].mean(), 2) + round(auroc_nt_delta_send_byte[2][i].mean(), 2)\n",
    "    total_wt = round(auroc_wt_delta_send_byte[0][i].mean(), 2) + round(auroc_wt_delta_send_byte[1][i].mean(), 2) + round(auroc_wt_delta_send_byte[2][i].mean(), 2)\n",
    "    print(\"$8 \\\\times 1000$ & $\", deltas[i], \"$ & $\", round(auroc_nt_delta_send_byte[0][i].mean(), 2), \"/\", round(auroc_wt_delta_send_byte[0][i].mean(), 2), \"$ & $\", round(auroc_nt_delta_send_byte[1][i].mean(), 2), \"/\", round(auroc_wt_delta_send_byte[1][i].mean(), 2), \"$ & $\", round(auroc_nt_delta_send_byte[2][i].mean(), 2), \"/\", round(auroc_wt_delta_send_byte[2][i].mean(), 2), \"$ & $\", round(total_nt, 2), \"/\", round(total_wt, 2), \"$ & $\", round(auroc_nt_delta_exe_time[0][i].mean(), 2), \"/\", round(auroc_wt_delta_exe_time[0][i].mean(), 2), \"$ \\\\\\\\\")"
   ]
  },
  {
   "cell_type": "markdown",
   "id": "110b8422",
   "metadata": {},
   "source": [
    "## Number of Parties"
   ]
  },
  {
   "cell_type": "code",
   "execution_count": 154,
   "id": "f74560c0",
   "metadata": {},
   "outputs": [
    {
     "name": "stdout",
     "output_type": "stream",
     "text": [
      "$ 2 \\times 1000$ & $1$ & $ 119.28 / 119.66 $ & $ 75.81 / 75.99 $ & $ 75.63 / 75.81 $ & $ 270.72 / 271.46 $ & $ 91.44 / 173.79 $ \\\\\n",
      "$ 4 \\times 1000$ & $1$ & $ 714.87 / 715.42 $ & $ 453.69 / 454.06 $ & $ 453.45 / 453.82 $ & $ 1622.01 / 1623.3 $ & $ 358.37 / 523.06 $ \\\\\n",
      "$ 8 \\times 1000$ & $1$ & $ 3333.01 / 3332.37 $ & $ 2115.66 / 2116.39 $ & $ 2115.26 / 2115.99 $ & $ 7563.93 / 7564.75 $ & $ 1074.87 / 1404.6 $ \\\\\n"
     ]
    }
   ],
   "source": [
    "for i in range(n_parties):\n",
    "    total_nt = round(auroc_nt_np_send_byte[0][i].mean(), 2) + round(auroc_nt_np_send_byte[1][i].mean(), 2) + round(auroc_nt_np_send_byte[2][i].mean(), 2)\n",
    "    total_wt = round(auroc_wt_np_send_byte[0][i].mean(), 2) + round(auroc_wt_np_send_byte[1][i].mean(), 2) + round(auroc_wt_np_send_byte[2][i].mean(), 2)\n",
    "    print(\"$\", parties[i], \"\\\\times 1000$ & $1$ & $\", round(auroc_nt_np_send_byte[0][i].mean(), 2), \"/\", round(auroc_wt_np_send_byte[0][i].mean(), 2), \"$ & $\", round(auroc_nt_np_send_byte[1][i].mean(), 2), \"/\", round(auroc_wt_np_send_byte[1][i].mean(), 2), \"$ & $\", round(auroc_nt_np_send_byte[2][i].mean(), 2), \"/\", round(auroc_wt_np_send_byte[2][i].mean(), 2), \"$ & $\", round(total_nt, 2), \"/\", round(total_wt, 2), \"$ & $\", round(auroc_nt_np_exe_time[0][i].mean(), 2), \"/\", round(auroc_wt_np_exe_time[0][i].mean(), 2), \"$ \\\\\\\\\")"
   ]
  },
  {
   "cell_type": "markdown",
   "id": "9a0aed79",
   "metadata": {},
   "source": [
    "## Number of Samples"
   ]
  },
  {
   "cell_type": "code",
   "execution_count": 155,
   "id": "f13d1c75",
   "metadata": {},
   "outputs": [
    {
     "name": "stdout",
     "output_type": "stream",
     "text": [
      "$3 \\times 64 $ & $1$ & $ 1.36 / 1.41 $ & $ 1.02 / 1.05 $ & $ 0.86 / 0.88 $ & $ 3.24 / 3.34 $ & $ 16.77 / 24.72 $ \\\\\n",
      "$3 \\times 128 $ & $1$ & $ 5.49 / 5.63 $ & $ 3.64 / 3.71 $ & $ 3.48 / 3.55 $ & $ 12.61 / 12.89 $ & $ 33.52 / 48.96 $ \\\\\n",
      "$3 \\times 256 $ & $1$ & $ 22.06 / 22.31 $ & $ 14.15 / 14.28 $ & $ 13.97 / 14.11 $ & $ 50.18 / 50.7 $ & $ 66.1 / 97.65 $ \\\\\n",
      "$3 \\times 512 $ & $1$ & $ 87.8 / 87.32 $ & $ 55.85 / 55.49 $ & $ 55.66 / 55.31 $ & $ 199.31 / 198.12 $ & $ 131.69 / 193.25 $ \\\\\n",
      "$3 \\times 1024 $ & $1$ & $ 349.64 / 353.11 $ & $ 221.96 / 224.07 $ & $ 221.75 / 223.86 $ & $ 793.35 / 801.04 $ & $ 233.27 / 356.31 $ \\\\\n"
     ]
    }
   ],
   "source": [
    "for i in range(n_samples):\n",
    "    total_nt = round(auroc_nt_ns_send_byte[0][i].mean(), 2) + round(auroc_nt_ns_send_byte[1][i].mean(), 2) + round(auroc_nt_ns_send_byte[2][i].mean(), 2)\n",
    "    total_wt = round(auroc_wt_ns_send_byte[0][i].mean(), 2) + round(auroc_wt_ns_send_byte[1][i].mean(), 2) + round(auroc_wt_ns_send_byte[2][i].mean(), 2)\n",
    "    print(\"$3 \\\\times\", samples[i], \"$ & $1$ & $\", round(auroc_nt_ns_send_byte[0][i].mean(), 2), \"/\", round(auroc_wt_ns_send_byte[0][i].mean(), 2), \"$ & $\", round(auroc_nt_ns_send_byte[1][i].mean(), 2), \"/\", round(auroc_wt_ns_send_byte[1][i].mean(), 2), \"$ & $\", round(auroc_nt_ns_send_byte[2][i].mean(), 2), \"/\", round(auroc_wt_ns_send_byte[2][i].mean(), 2), \"$ & $\", round(total_nt, 2), \"/\", round(total_wt, 2), \"$ & $\", round(auroc_nt_ns_exe_time[0][i].mean(), 2), \"/\", round(auroc_wt_ns_exe_time[0][i].mean(), 2), \"$ \\\\\\\\\")"
   ]
  },
  {
   "cell_type": "markdown",
   "id": "be138802",
   "metadata": {},
   "source": [
    "## Unbalanced"
   ]
  },
  {
   "cell_type": "code",
   "execution_count": 180,
   "id": "f8fb3660",
   "metadata": {},
   "outputs": [
    {
     "name": "stdout",
     "output_type": "stream",
     "text": [
      "$8 \\times UNB$ & $1$ & $ 120.51 / 120.56 $ & $ 76.6 / 76.57 $ & $ 76.38 / 76.35 $ & $ 273.49 / 273.48 $ & $ 297.59 / 379.71 $ \\\\\n"
     ]
    }
   ],
   "source": [
    "for i in range(n_unb):\n",
    "    total_nt = round(auroc_nt_unb_send_byte[0][i].mean(), 2) + round(auroc_nt_unb_send_byte[1][i].mean(), 2) + round(auroc_nt_unb_send_byte[2][i].mean(), 2)\n",
    "    total_wt = round(auroc_wt_unb_send_byte[0][i].mean(), 2) + round(auroc_wt_unb_send_byte[1][i].mean(), 2) + round(auroc_wt_unb_send_byte[2][i].mean(), 2)\n",
    "    print(\"$8 \\\\times UNB$ & $1$ & $\", round(auroc_nt_unb_send_byte[0][i].mean(), 2), \"/\", round(auroc_wt_unb_send_byte[0][i].mean(), 2), \"$ & $\", round(auroc_nt_unb_send_byte[1][i].mean(), 2), \"/\", round(auroc_wt_unb_send_byte[1][i].mean(), 2), \"$ & $\", round(auroc_nt_unb_send_byte[2][i].mean(), 2), \"/\", round(auroc_wt_unb_send_byte[2][i].mean(), 2), \"$ & $\", round(total_nt, 2), \"/\", round(total_wt, 2), \"$ & $\", round(auroc_nt_unb_exe_time[0][i].mean(), 2), \"/\", round(auroc_wt_unb_exe_time[0][i].mean(), 2), \"$ \\\\\\\\\")"
   ]
  },
  {
   "cell_type": "markdown",
   "id": "60033a62",
   "metadata": {},
   "source": [
    "# AUPR - Tables"
   ]
  },
  {
   "cell_type": "markdown",
   "id": "5546d551",
   "metadata": {},
   "source": [
    "## Delta"
   ]
  },
  {
   "cell_type": "code",
   "execution_count": 174,
   "id": "814196f6",
   "metadata": {},
   "outputs": [
    {
     "name": "stdout",
     "output_type": "stream",
     "text": [
      "$8 \\times 1000$ & $ 3 $ & $ 1692.85 $ & $ 1069.58 $ & $ 1069.25 $ & $ 3831.68 $ & $ 1194.08 $ \\\\\n",
      "$8 \\times 1000$ & $ 5 $ & $ 1137.91 $ & $ 717.45 $ & $ 717.15 $ & $ 2572.51 $ & $ 1105.46 $ \\\\\n",
      "$8 \\times 1000$ & $ 11 $ & $ 583.02 $ & $ 365.36 $ & $ 365.08 $ & $ 1313.46 $ & $ 1032.29 $ \\\\\n",
      "$8 \\times 1000$ & $ 25 $ & $ 284.22 $ & $ 175.76 $ & $ 175.5 $ & $ 635.48 $ & $ 972.0 $ \\\\\n",
      "$8 \\times 1000$ & $ 51 $ & $ 156.23 $ & $ 94.54 $ & $ 94.29 $ & $ 345.06 $ & $ 935.65 $ \\\\\n",
      "$8 \\times 1000$ & $ 101 $ & $ 93.59 $ & $ 54.79 $ & $ 54.53 $ & $ 202.91 $ & $ 940.07 $ \\\\\n"
     ]
    }
   ],
   "source": [
    "for i in range(n_deltas):\n",
    "    total = round(aupr_delta_send_byte[0][i].mean(), 2) + round(aupr_delta_send_byte[1][i].mean(), 2) + round(aupr_delta_send_byte[2][i].mean(), 2)\n",
    "    print(\"$8 \\\\times 1000$ & $\", deltas[i], \"$ & $\", round(aupr_delta_send_byte[0][i].mean(), 2), \"$ & $\", round(aupr_delta_send_byte[1][i].mean(), 2), \"$ & $\", round(aupr_delta_send_byte[2][i].mean(), 2), \"$ & $\", round(total, 2), \"$ & $\", round(aupr_delta_exe_time[0][i].mean(), 2), \"$ \\\\\\\\\")"
   ]
  },
  {
   "cell_type": "markdown",
   "id": "9f795613",
   "metadata": {},
   "source": [
    "## Number of Parties"
   ]
  },
  {
   "cell_type": "code",
   "execution_count": 152,
   "id": "473b4f48",
   "metadata": {},
   "outputs": [
    {
     "name": "stdout",
     "output_type": "stream",
     "text": [
      "$ 2 \\times 1000$ & $1$ & $ 125.05 $ & $ 78.37 $ & $ 78.19 $ & $ 281.61 $ & $ 174.16 $ \\\\\n",
      "$ 4 \\times 1000$ & $1$ & $ 726.44 $ & $ 458.81 $ & $ 458.57 $ & $ 1643.82 $ & $ 523.39 $ \\\\\n",
      "$ 8 \\times 1000$ & $1$ & $ 3355.74 $ & $ 2125.91 $ & $ 2125.51 $ & $ 7607.16 $ & $ 1404.22 $ \\\\\n"
     ]
    }
   ],
   "source": [
    "for i in range(n_parties):\n",
    "    total = round(aupr_np_send_byte[0][i].mean(), 2) + round(aupr_np_send_byte[1][i].mean(), 2) + round(aupr_np_send_byte[2][i].mean(), 2)\n",
    "    print(\"$\", parties[i], \"\\\\times 1000$ & $1$ & $\", round(aupr_np_send_byte[0][i].mean(), 2), \"$ & $\", round(aupr_np_send_byte[1][i].mean(), 2), \"$ & $\", round(aupr_np_send_byte[2][i].mean(), 2), \"$ & $\", round(total, 2), \"$ & $\", round(aupr_np_exe_time[0][i].mean(), 2),\"$ \\\\\\\\\")"
   ]
  },
  {
   "cell_type": "markdown",
   "id": "31264fd8",
   "metadata": {},
   "source": [
    "## Number of Samples"
   ]
  },
  {
   "cell_type": "code",
   "execution_count": 153,
   "id": "7e598d55",
   "metadata": {},
   "outputs": [
    {
     "name": "stdout",
     "output_type": "stream",
     "text": [
      "$3 \\times 64 $ & $1$ & $ 1.96 $ & $ 1.3 $ & $ 1.13 $ & $ 4.39 $ & $ 24.41 $ \\\\\n",
      "$3 \\times 128 $ & $1$ & $ 6.61 $ & $ 4.14 $ & $ 3.97 $ & $ 14.72 $ & $ 48.05 $ \\\\\n",
      "$3 \\times 256 $ & $1$ & $ 24.44 $ & $ 15.23 $ & $ 15.06 $ & $ 54.73 $ & $ 95.65 $ \\\\\n",
      "$3 \\times 512 $ & $1$ & $ 93.23 $ & $ 58.44 $ & $ 58.26 $ & $ 209.93 $ & $ 191.55 $ \\\\\n",
      "$3 \\times 1024 $ & $1$ & $ 359.67 $ & $ 226.62 $ & $ 226.41 $ & $ 812.7 $ & $ 355.32 $ \\\\\n"
     ]
    }
   ],
   "source": [
    "for i in range(n_samples):\n",
    "    total = round(aupr_ns_send_byte[0][i].mean(), 2) + round(aupr_ns_send_byte[1][i].mean(), 2) + round(aupr_ns_send_byte[2][i].mean(), 2)\n",
    "    print(\"$3 \\\\times\", samples[i], \"$ & $1$ & $\", round(aupr_ns_send_byte[0][i].mean(), 2),\"$ & $\", round(aupr_ns_send_byte[1][i].mean(), 2), \"$ & $\", round(aupr_ns_send_byte[2][i].mean(), 2),\"$ & $\", round(total, 2), \"$ & $\", round(aupr_ns_exe_time[0][i].mean(), 2), \"$ \\\\\\\\\")"
   ]
  },
  {
   "cell_type": "markdown",
   "id": "d308e097",
   "metadata": {},
   "source": [
    "## Unbalanced"
   ]
  },
  {
   "cell_type": "code",
   "execution_count": 181,
   "id": "898d6b2f",
   "metadata": {},
   "outputs": [
    {
     "name": "stdout",
     "output_type": "stream",
     "text": [
      "$8 \\times UNB$ & $1$ & $ 130.48 $ & $ 81.82 $ & $ 81.6 $ & $ 293.9 $ & $ 379.99 $ \\\\\n"
     ]
    }
   ],
   "source": [
    "for i in range(n_unb):\n",
    "    total = round(aupr_unb_send_byte[0][i].mean(), 2) + round(aupr_unb_send_byte[1][i].mean(), 2) + round(aupr_unb_send_byte[2][i].mean(), 2)\n",
    "    print(\"$8 \\\\times UNB$ & $1$ & $\", round(aupr_unb_send_byte[0][i].mean(), 2),\"$ & $\", round(aupr_unb_send_byte[1][i].mean(), 2), \"$ & $\", round(aupr_unb_send_byte[2][i].mean(), 2),\"$ & $\", round(total, 2), \"$ & $\", round(aupr_unb_exe_time[0][i].mean(), 2), \"$ \\\\\\\\\")"
   ]
  }
 ],
 "metadata": {
  "kernelspec": {
   "display_name": "Python 3 (ipykernel)",
   "language": "python",
   "name": "python3"
  },
  "language_info": {
   "codemirror_mode": {
    "name": "ipython",
    "version": 3
   },
   "file_extension": ".py",
   "mimetype": "text/x-python",
   "name": "python",
   "nbconvert_exporter": "python",
   "pygments_lexer": "ipython3",
   "version": "3.9.6"
  }
 },
 "nbformat": 4,
 "nbformat_minor": 5
}
